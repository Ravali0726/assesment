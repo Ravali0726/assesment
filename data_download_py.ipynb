{
  "nbformat": 4,
  "nbformat_minor": 0,
  "metadata": {
    "colab": {
      "provenance": [],
      "authorship_tag": "ABX9TyOZIDJgdI03nDtiaUooqetI",
      "include_colab_link": true
    },
    "kernelspec": {
      "name": "python3",
      "display_name": "Python 3"
    },
    "language_info": {
      "name": "python"
    }
  },
  "cells": [
    {
      "cell_type": "markdown",
      "metadata": {
        "id": "view-in-github",
        "colab_type": "text"
      },
      "source": [
        "<a href=\"https://colab.research.google.com/github/Ravali0726/assesment1/blob/main/data_download_py.ipynb\" target=\"_parent\"><img src=\"https://colab.research.google.com/assets/colab-badge.svg\" alt=\"Open In Colab\"/></a>"
      ]
    },
    {
      "cell_type": "code",
      "source": [
        "import requests\n",
        "import json\n",
        "import csv\n",
        "\n",
        "def download_data(url):\n",
        "    # Send a GET request to download the data\n",
        "    response = requests.get(url)\n",
        "    \n",
        "    if response.status_code == 200:\n",
        "        # If the request is successful, return the JSON data\n",
        "        return response.json()\n",
        "    else:\n",
        "        # If the request fails, raise an exception\n",
        "        raise Exception(f\"Failed to download data. Status code: {response.status_code}\")\n",
        "\n",
        "def convert_to_csv(data, output_file):\n",
        "    # Open the output file in write mode\n",
        "    with open(output_file, 'w', newline='') as csvfile:\n",
        "        writer = csv.writer(csvfile)\n",
        "        \n",
        "        # Write the headers\n",
        "        headers = data[0].keys()\n",
        "        writer.writerow(headers)\n",
        "        \n",
        "        # Write each row of data as a CSV row\n",
        "        for row in data:\n",
        "            writer.writerow(row.values())\n",
        "\n",
        "def main():\n",
        "    url = \"https://data.nasa.gov/resource/y77d-th95.json\"\n",
        "    output_file = \"data.csv\"\n",
        "    \n",
        "    try:\n",
        "        # Download the data from the URL\n",
        "        json_data = download_data(url)\n",
        "        \n",
        "        # Process the JSON data and convert it to a list of dictionaries\n",
        "        processed_data = json.loads(json.dumps(json_data))\n",
        "        \n",
        "        # Convert the data to a CSV file\n",
        "        convert_to_csv(processed_data, output_file)\n",
        "        \n",
        "        print(f\"Data successfully converted to CSV and saved as {output_file}\")\n",
        "    except Exception as e:\n",
        "        print(f\"Error: {str(e)}\")\n",
        "\n",
        "# Run the main function\n",
        "if __name__ == \"__main__\":\n",
        "    main()\n"
      ],
      "metadata": {
        "colab": {
          "base_uri": "https://localhost:8080/"
        },
        "id": "bTfVmgeAHeUE",
        "outputId": "1342e88a-dc53-4cb5-cd6e-b98913e5d114"
      },
      "execution_count": null,
      "outputs": [
        {
          "output_type": "stream",
          "name": "stdout",
          "text": [
            "Data successfully converted to CSV and saved as data.csv\n"
          ]
        }
      ]
    }
  ]
}