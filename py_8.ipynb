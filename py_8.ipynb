{
  "nbformat": 4,
  "nbformat_minor": 0,
  "metadata": {
    "colab": {
      "provenance": [],
      "authorship_tag": "ABX9TyP/QGQj9/zoZ8EkJ1doWzP9",
      "include_colab_link": true
    },
    "kernelspec": {
      "name": "python3",
      "display_name": "Python 3"
    },
    "language_info": {
      "name": "python"
    }
  },
  "cells": [
    {
      "cell_type": "markdown",
      "metadata": {
        "id": "view-in-github",
        "colab_type": "text"
      },
      "source": [
        "<a href=\"https://colab.research.google.com/github/Ravali0726/assesment1/blob/main/py_8.ipynb\" target=\"_parent\"><img src=\"https://colab.research.google.com/assets/colab-badge.svg\" alt=\"Open In Colab\"/></a>"
      ]
    },
    {
      "cell_type": "code",
      "source": [
        "pip install requests matplotlib"
      ],
      "metadata": {
        "colab": {
          "base_uri": "https://localhost:8080/"
        },
        "id": "awkI1Tl5L6PR",
        "outputId": "0b29403f-e4b9-4044-ccbb-c3acca49a2eb"
      },
      "execution_count": 3,
      "outputs": [
        {
          "output_type": "stream",
          "name": "stdout",
          "text": [
            "Looking in indexes: https://pypi.org/simple, https://us-python.pkg.dev/colab-wheels/public/simple/\n",
            "Requirement already satisfied: requests in /usr/local/lib/python3.10/dist-packages (2.27.1)\n",
            "Requirement already satisfied: matplotlib in /usr/local/lib/python3.10/dist-packages (3.7.1)\n",
            "Requirement already satisfied: urllib3<1.27,>=1.21.1 in /usr/local/lib/python3.10/dist-packages (from requests) (1.26.15)\n",
            "Requirement already satisfied: certifi>=2017.4.17 in /usr/local/lib/python3.10/dist-packages (from requests) (2022.12.7)\n",
            "Requirement already satisfied: charset-normalizer~=2.0.0 in /usr/local/lib/python3.10/dist-packages (from requests) (2.0.12)\n",
            "Requirement already satisfied: idna<4,>=2.5 in /usr/local/lib/python3.10/dist-packages (from requests) (3.4)\n",
            "Requirement already satisfied: contourpy>=1.0.1 in /usr/local/lib/python3.10/dist-packages (from matplotlib) (1.0.7)\n",
            "Requirement already satisfied: cycler>=0.10 in /usr/local/lib/python3.10/dist-packages (from matplotlib) (0.11.0)\n",
            "Requirement already satisfied: fonttools>=4.22.0 in /usr/local/lib/python3.10/dist-packages (from matplotlib) (4.39.3)\n",
            "Requirement already satisfied: kiwisolver>=1.0.1 in /usr/local/lib/python3.10/dist-packages (from matplotlib) (1.4.4)\n",
            "Requirement already satisfied: numpy>=1.20 in /usr/local/lib/python3.10/dist-packages (from matplotlib) (1.22.4)\n",
            "Requirement already satisfied: packaging>=20.0 in /usr/local/lib/python3.10/dist-packages (from matplotlib) (23.1)\n",
            "Requirement already satisfied: pillow>=6.2.0 in /usr/local/lib/python3.10/dist-packages (from matplotlib) (8.4.0)\n",
            "Requirement already satisfied: pyparsing>=2.3.1 in /usr/local/lib/python3.10/dist-packages (from matplotlib) (3.0.9)\n",
            "Requirement already satisfied: python-dateutil>=2.7 in /usr/local/lib/python3.10/dist-packages (from matplotlib) (2.8.2)\n",
            "Requirement already satisfied: six>=1.5 in /usr/local/lib/python3.10/dist-packages (from python-dateutil>=2.7->matplotlib) (1.16.0)\n"
          ]
        }
      ]
    },
    {
      "cell_type": "code",
      "source": [
        "import requests\n",
        "import json\n",
        "import matplotlib.pyplot as plt\n",
        "\n",
        "# API endpoint\n",
        "url = \"http://api.tvmaze.com/singlesearch/shows?q=westworld&embed=episodes\"\n",
        "\n",
        "# Send a GET request to the API endpoint\n",
        "response = requests.get(url)\n",
        "\n",
        "# Parse the JSON response\n",
        "data = json.loads(response.text)\n",
        "\n",
        "# Extract the episodes data\n",
        "episodes = data[\"_embedded\"][\"episodes\"]\n",
        "\n",
        "# Initialize dictionaries to store the analysis results\n",
        "season_ratings = {}  # Overall ratings for each season\n",
        "high_low_ratings = {}  # Episode names with highest and lowest rating for each season\n",
        "popular_episodes = {}  # Summary of the most popular episode in each season\n",
        "\n",
        "# Extract desired attributes and perform analysis\n",
        "for episode in episodes:\n",
        "    season = episode[\"season\"]\n",
        "    rating = episode[\"rating\"][\"average\"]\n",
        "    episode_name = episode[\"name\"]\n",
        "    airdate = episode[\"airdate\"]\n",
        "\n",
        "    # Calculate overall ratings for each season\n",
        "    if season not in season_ratings:\n",
        "        season_ratings[season] = []\n",
        "    season_ratings[season].append(rating)\n",
        "\n",
        "    # Identify episodes with average rating > 8 for each season\n",
        "    if rating > 8:\n",
        "        print(\"Episode with rating > 8 in Season\", season, \":\", episode_name)\n",
        "\n",
        "    # Identify episodes aired before May 2019 for each season\n",
        "    if airdate < \"2019-05\":\n",
        "        print(\"Episode aired before May 2019 in Season\", season, \":\", episode_name)\n",
        "\n",
        "    # Update episode names with highest and lowest rating for each season\n",
        "    if season not in high_low_ratings:\n",
        "        high_low_ratings[season] = {\"highest\": {\"name\": episode_name, \"rating\": rating},\n",
        "                                    \"lowest\": {\"name\": episode_name, \"rating\": rating}}\n",
        "    else:\n",
        "        if rating > high_low_ratings[season][\"highest\"][\"rating\"]:\n",
        "            high_low_ratings[season][\"highest\"][\"name\"] = episode_name\n",
        "            high_low_ratings[season][\"highest\"][\"rating\"] = rating\n",
        "        if rating < high_low_ratings[season][\"lowest\"][\"rating\"]:\n",
        "            high_low_ratings[season][\"lowest\"][\"name\"] = episode_name\n",
        "            high_low_ratings[season][\"lowest\"][\"rating\"] = rating\n",
        "\n",
        "    # Update summary of the most popular episode in each season\n",
        "    if season not in popular_episodes:\n",
        "        popular_episodes[season] = {\"episode\": episode_name, \"rating\": rating}\n",
        "    else:\n",
        "        if rating > popular_episodes[season][\"rating\"]:\n",
        "            popular_episodes[season][\"episode\"] = episode_name\n",
        "            popular_episodes[season][\"rating\"] = rating\n",
        "\n",
        "# Plotting the ratings for each season\n",
        "seasons = list(season_ratings.keys())\n",
        "ratings = [season_ratings[season] for season in seasons]\n",
        "\n",
        "plt.boxplot(ratings, labels=seasons)\n",
        "plt.title(\"Ratings for Each Season\")\n",
        "plt.xlabel(\"Season\")\n",
        "plt.ylabel(\"Rating\")\n",
        "plt.show()\n",
        "\n",
        "# Print the episode names with the highest and lowest rating for each season\n",
        "for season in high_low_ratings:\n",
        "    print(\"Season:\", season)\n",
        "    print(\"Episode with Highest Rating:\", high_low_ratings[season][\"highest\"][\"name\"])\n",
        "    print(\"Episode with Lowest Rating:\", high_low_ratings[season][\"lowest\"][\"name\"])\n",
        "    print(\"---------------------------------------\")\n",
        "\n",
        "# Print the summary of the most popular episode in each season\n",
        "for season in popular_episodes:\n",
        "    print(\"Season:\", season)\n",
        "    print(\"Most Popular Episode:\", popular_episodes[season][\"episode\"])\n",
        "    print(\"Rating:\", popular_episodes[season][\"rating\"])\n",
        "    print(\"---------------------------------------\")\n"
      ],
      "metadata": {
        "colab": {
          "base_uri": "https://localhost:8080/",
          "height": 1000
        },
        "id": "__bnSLGYL9wf",
        "outputId": "f498bfef-cbd8-4ee6-cc3f-8a5e980bdad0"
      },
      "execution_count": 4,
      "outputs": [
        {
          "output_type": "stream",
          "name": "stdout",
          "text": [
            "Episode aired before May 2019 in Season 1 : The Original\n",
            "Episode aired before May 2019 in Season 1 : Chestnut\n",
            "Episode aired before May 2019 in Season 1 : The Stray\n",
            "Episode aired before May 2019 in Season 1 : Dissonance Theory\n",
            "Episode aired before May 2019 in Season 1 : Contrapasso\n",
            "Episode aired before May 2019 in Season 1 : The Adversary\n",
            "Episode with rating > 8 in Season 1 : Trompe L'Oeil\n",
            "Episode aired before May 2019 in Season 1 : Trompe L'Oeil\n",
            "Episode aired before May 2019 in Season 1 : Trace Decay\n",
            "Episode with rating > 8 in Season 1 : The Well-Tempered Clavier\n",
            "Episode aired before May 2019 in Season 1 : The Well-Tempered Clavier\n",
            "Episode with rating > 8 in Season 1 : The Bicameral Mind\n",
            "Episode aired before May 2019 in Season 1 : The Bicameral Mind\n",
            "Episode aired before May 2019 in Season 2 : Journey Into Night\n",
            "Episode aired before May 2019 in Season 2 : Reunion\n",
            "Episode aired before May 2019 in Season 2 : Virtù e Fortuna\n",
            "Episode aired before May 2019 in Season 2 : The Riddle of the Sphinx\n",
            "Episode aired before May 2019 in Season 2 : Akane No Mai\n",
            "Episode aired before May 2019 in Season 2 : Phase Space\n",
            "Episode aired before May 2019 in Season 2 : Les Écorchés\n",
            "Episode with rating > 8 in Season 2 : Kiksuya\n",
            "Episode aired before May 2019 in Season 2 : Kiksuya\n",
            "Episode with rating > 8 in Season 2 : Vanishing Point\n",
            "Episode aired before May 2019 in Season 2 : Vanishing Point\n",
            "Episode with rating > 8 in Season 2 : The Passenger\n",
            "Episode aired before May 2019 in Season 2 : The Passenger\n"
          ]
        },
        {
          "output_type": "display_data",
          "data": {
            "text/plain": [
              "<Figure size 640x480 with 1 Axes>"
            ],
            "image/png": "[encoded data removed]"
          },
          "metadata": {}
        },
        {
          "output_type": "stream",
          "name": "stdout",
          "text": [
            "Season: 1\n",
            "Episode with Highest Rating: The Bicameral Mind\n",
            "Episode with Lowest Rating: The Stray\n",
            "---------------------------------------\n",
            "Season: 2\n",
            "Episode with Highest Rating: Kiksuya\n",
            "Episode with Lowest Rating: Akane No Mai\n",
            "---------------------------------------\n",
            "Season: 3\n",
            "Episode with Highest Rating: Parce Domine\n",
            "Episode with Lowest Rating: Decoherence\n",
            "---------------------------------------\n",
            "Season: 4\n",
            "Episode with Highest Rating: Zhuangzi\n",
            "Episode with Lowest Rating: The Auguries\n",
            "---------------------------------------\n",
            "Season: 1\n",
            "Most Popular Episode: The Bicameral Mind\n",
            "Rating: 8.7\n",
            "---------------------------------------\n",
            "Season: 2\n",
            "Most Popular Episode: Kiksuya\n",
            "Rating: 8.7\n",
            "---------------------------------------\n",
            "Season: 3\n",
            "Most Popular Episode: Parce Domine\n",
            "Rating: 8\n",
            "---------------------------------------\n",
            "Season: 4\n",
            "Most Popular Episode: Zhuangzi\n",
            "Rating: 7.8\n",
            "---------------------------------------\n"
          ]
        }
      ]
    }
  ]
}