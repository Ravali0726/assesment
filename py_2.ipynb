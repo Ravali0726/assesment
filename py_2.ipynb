{
  "nbformat": 4,
  "nbformat_minor": 0,
  "metadata": {
    "colab": {
      "provenance": [],
      "authorship_tag": "ABX9TyOAZ4saxuOwQaZHjn4C7sN0",
      "include_colab_link": true
    },
    "kernelspec": {
      "name": "python3",
      "display_name": "Python 3"
    },
    "language_info": {
      "name": "python"
    }
  },
  "cells": [
    {
      "cell_type": "markdown",
      "metadata": {
        "id": "view-in-github",
        "colab_type": "text"
      },
      "source": [
        "<a href=\"https://colab.research.google.com/github/Ravali0726/assesment1/blob/main/py_2.ipynb\" target=\"_parent\"><img src=\"https://colab.research.google.com/assets/colab-badge.svg\" alt=\"Open In Colab\"/></a>"
      ]
    },
    {
      "cell_type": "code",
      "source": [
        "from collections import Counter\n",
        "\n",
        "def is_valid_string(s):\n",
        "    char_freq = Counter(s)\n",
        "\n",
        "    freq_count = Counter(char_freq.values())\n",
        "    unique_freq = list(freq_count.keys())\n",
        "\n",
        "    if len(unique_freq) == 1:\n",
        "        return \"YES\"  # All characters appear the same number of times\n",
        "\n",
        "    if len(unique_freq) > 1:\n",
        "        return \"NO\"  # More than two unique frequencies, can't make it valid\n",
        "\n",
        "    # Check if either of the frequencies occurs only once\n",
        "    if freq_count[1] == 1:\n",
        "        return \"YES\"  # Removing one character will make it valid\n",
        "\n",
        "    return \"NO\"  # More than two unique frequencies, and none occurs only once\n",
        "\n",
        "string1 = \"abcde\"\n",
        "string2 = \"aabbcc\"\n",
        "string3 = \"aabbc\"\n",
        "string4 = \"aabbccd\"\n",
        "\n",
        "print(is_valid_string(string1))\n",
        "print(is_valid_string(string2))\n",
        "print(is_valid_string(string3))\n",
        "print(is_valid_string(string4))\n"
      ],
      "metadata": {
        "colab": {
          "base_uri": "https://localhost:8080/"
        },
        "id": "-S8fjCg2CeAP",
        "outputId": "6f153728-85af-4c0f-8c87-28d4a7a025d7"
      },
      "execution_count": 7,
      "outputs": [
        {
          "output_type": "stream",
          "name": "stdout",
          "text": [
            "YES\n",
            "YES\n",
            "NO\n",
            "NO\n"
          ]
        }
      ]
    }
  ]
}